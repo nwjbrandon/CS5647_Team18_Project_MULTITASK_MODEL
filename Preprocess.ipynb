{
 "cells": [
  {
   "cell_type": "code",
   "execution_count": 1,
   "metadata": {},
   "outputs": [
    {
     "name": "stdout",
     "output_type": "stream",
     "text": [
      "n audio_files: 9840\n"
     ]
    }
   ],
   "source": [
    "import glob\n",
    "\n",
    "audio_files = glob.glob(\"tone_perfect/*.mp3\")\n",
    "print(\"n audio_files:\", len(audio_files))"
   ]
  },
  {
   "cell_type": "code",
   "execution_count": 2,
   "metadata": {},
   "outputs": [
    {
     "data": {
      "text/html": [
       "<div>\n",
       "<style scoped>\n",
       "    .dataframe tbody tr th:only-of-type {\n",
       "        vertical-align: middle;\n",
       "    }\n",
       "\n",
       "    .dataframe tbody tr th {\n",
       "        vertical-align: top;\n",
       "    }\n",
       "\n",
       "    .dataframe thead th {\n",
       "        text-align: right;\n",
       "    }\n",
       "</style>\n",
       "<table border=\"1\" class=\"dataframe\">\n",
       "  <thead>\n",
       "    <tr style=\"text-align: right;\">\n",
       "      <th></th>\n",
       "      <th>audio_file</th>\n",
       "      <th>tone</th>\n",
       "      <th>pinyin</th>\n",
       "      <th>label</th>\n",
       "    </tr>\n",
       "  </thead>\n",
       "  <tbody>\n",
       "    <tr>\n",
       "      <th>0</th>\n",
       "      <td>tone_perfect/sa3_MV1_MP3.mp3</td>\n",
       "      <td>3</td>\n",
       "      <td>sa</td>\n",
       "      <td>sa3</td>\n",
       "    </tr>\n",
       "    <tr>\n",
       "      <th>1</th>\n",
       "      <td>tone_perfect/cao2_FV1_MP3.mp3</td>\n",
       "      <td>2</td>\n",
       "      <td>cao</td>\n",
       "      <td>cao2</td>\n",
       "    </tr>\n",
       "    <tr>\n",
       "      <th>2</th>\n",
       "      <td>tone_perfect/hong1_MV2_MP3.mp3</td>\n",
       "      <td>1</td>\n",
       "      <td>hong</td>\n",
       "      <td>hong1</td>\n",
       "    </tr>\n",
       "    <tr>\n",
       "      <th>3</th>\n",
       "      <td>tone_perfect/zheng3_MV3_MP3.mp3</td>\n",
       "      <td>3</td>\n",
       "      <td>zheng</td>\n",
       "      <td>zheng3</td>\n",
       "    </tr>\n",
       "    <tr>\n",
       "      <th>4</th>\n",
       "      <td>tone_perfect/shao4_MV1_MP3.mp3</td>\n",
       "      <td>4</td>\n",
       "      <td>shao</td>\n",
       "      <td>shao4</td>\n",
       "    </tr>\n",
       "  </tbody>\n",
       "</table>\n",
       "</div>"
      ],
      "text/plain": [
       "                        audio_file  tone pinyin   label\n",
       "0     tone_perfect/sa3_MV1_MP3.mp3     3     sa     sa3\n",
       "1    tone_perfect/cao2_FV1_MP3.mp3     2    cao    cao2\n",
       "2   tone_perfect/hong1_MV2_MP3.mp3     1   hong   hong1\n",
       "3  tone_perfect/zheng3_MV3_MP3.mp3     3  zheng  zheng3\n",
       "4   tone_perfect/shao4_MV1_MP3.mp3     4   shao   shao4"
      ]
     },
     "execution_count": 2,
     "metadata": {},
     "output_type": "execute_result"
    }
   ],
   "source": [
    "import pandas as pd\n",
    "\n",
    "records = []\n",
    "for audio_file in audio_files:\n",
    "    label = audio_file.split(\"/\")[-1].split(\"_\")[0]\n",
    "    tone = int(label[-1])\n",
    "    pinyin = label[:-1]\n",
    "    records.append({\n",
    "        \"audio_file\": audio_file,\n",
    "        \"tone\": tone,\n",
    "        \"pinyin\": pinyin,\n",
    "        \"label\": label,\n",
    "    })\n",
    "\n",
    "df = pd.DataFrame(records)\n",
    "df.to_csv(\"labels.csv\", sep=\",\", index=False)\n",
    "df.head()"
   ]
  },
  {
   "cell_type": "code",
   "execution_count": 3,
   "metadata": {},
   "outputs": [
    {
     "data": {
      "text/plain": [
       "([1, 2, 3, 4], 4)"
      ]
     },
     "execution_count": 3,
     "metadata": {},
     "output_type": "execute_result"
    }
   ],
   "source": [
    "import json\n",
    "import numpy as np\n",
    "\n",
    "tones = sorted(np.int32(df[\"tone\"].unique()).tolist())\n",
    "with open(\"tones.json\", \"w\") as f:\n",
    "    json.dump(tones, f, indent=2)\n",
    "tones[:10], len(tones)"
   ]
  },
  {
   "cell_type": "code",
   "execution_count": 4,
   "metadata": {},
   "outputs": [
    {
     "data": {
      "text/plain": [
       "(['a', 'ai', 'an', 'ang', 'ao', 'ba', 'bai', 'ban', 'bang', 'bao'], 410)"
      ]
     },
     "execution_count": 4,
     "metadata": {},
     "output_type": "execute_result"
    }
   ],
   "source": [
    "import json\n",
    "\n",
    "pinyins = sorted(df[\"pinyin\"].unique().tolist())\n",
    "with open(\"pinyins.json\", \"w\") as f:\n",
    "    json.dump(pinyins, f, indent=2)\n",
    "pinyins[:10], len(pinyins)"
   ]
  },
  {
   "cell_type": "code",
   "execution_count": 5,
   "metadata": {},
   "outputs": [
    {
     "data": {
      "text/plain": [
       "(['a1', 'a2', 'a3', 'a4', 'ai1', 'ai2', 'ai3', 'ai4', 'an1', 'an2'], 1640)"
      ]
     },
     "execution_count": 5,
     "metadata": {},
     "output_type": "execute_result"
    }
   ],
   "source": [
    "import json\n",
    "\n",
    "labels = sorted(df[\"label\"].unique().tolist())\n",
    "with open(\"labels.json\", \"w\") as f:\n",
    "    json.dump(labels, f, indent=2)\n",
    "labels[:10], len(labels)"
   ]
  },
  {
   "cell_type": "code",
   "execution_count": 6,
   "metadata": {},
   "outputs": [
    {
     "name": "stdout",
     "output_type": "stream",
     "text": [
      "7872 1968\n",
      "61968384 3873024\n"
     ]
    }
   ],
   "source": [
    "import itertools\n",
    "from sklearn.model_selection import train_test_split\n",
    "from tqdm import tqdm\n",
    "\n",
    "train_data, test_data = train_test_split(audio_files, test_size=0.2, random_state=42)\n",
    "print(len(train_data), len(test_data))\n",
    "train_data = list(itertools.product(train_data, train_data))\n",
    "test_data = list(itertools.product(test_data, test_data))\n",
    "print(len(train_data), len(test_data))\n"
   ]
  },
  {
   "cell_type": "code",
   "execution_count": 7,
   "metadata": {},
   "outputs": [
    {
     "name": "stderr",
     "output_type": "stream",
     "text": [
      "100%|██████████| 61968384/61968384 [00:38<00:00, 1601231.53it/s]\n"
     ]
    }
   ],
   "source": [
    "records = []\n",
    "for audio_fname1, audio_fname2 in tqdm(train_data):\n",
    "    label1 = audio_fname1.split(\"/\")[-1].split(\"_\")[0]\n",
    "    label2 = audio_fname2.split(\"/\")[-1].split(\"_\")[0]\n",
    "    is_same = 1 if label1 == label2 else 0\n",
    "    records.append({\n",
    "        \"audio_fname1\": audio_fname1,\n",
    "        \"audio_fname2\": audio_fname2,\n",
    "        \"is_same\": is_same\n",
    "    })\n",
    "\n",
    "df = pd.DataFrame(records)\n",
    "same_df = df[df[\"is_same\"] == 1]\n",
    "n_same = len(same_df)\n",
    "diff_df = df[df[\"is_same\"] == 0]\n",
    "diff_df = diff_df.sample(n=n_same, random_state=42)\n",
    "print(len(same_df), len(diff_df))\n",
    "\n",
    "df = pd.concat([same_df, diff_df])\n",
    "df.to_csv(\"annotation_train.csv\", sep=\",\", index=False)\n",
    "df.head()"
   ]
  },
  {
   "cell_type": "code",
   "execution_count": null,
   "metadata": {},
   "outputs": [],
   "source": [
    "records = []\n",
    "for audio_fname1, audio_fname2 in tqdm(test_data):\n",
    "    label1 = audio_fname1.split(\"/\")[-1].split(\"_\")[0]\n",
    "    label2 = audio_fname2.split(\"/\")[-1].split(\"_\")[0]\n",
    "    is_same = 1 if label1 == label2 else 0\n",
    "    records.append({\n",
    "        \"audio_fname1\": audio_fname1,\n",
    "        \"audio_fname2\": audio_fname2,\n",
    "        \"is_same\": is_same\n",
    "    })\n",
    "\n",
    "df = pd.DataFrame(records)\n",
    "same_df = df[df[\"is_same\"] == 1]\n",
    "n_same = len(same_df)\n",
    "diff_df = df[df[\"is_same\"] == 0]\n",
    "diff_df = diff_df.sample(n=n_same, random_state=42)\n",
    "print(len(same_df), len(diff_df))\n",
    "\n",
    "df = pd.concat([same_df, diff_df])\n",
    "df.to_csv(\"annotation_test.csv\", sep=\",\", index=False)\n",
    "df.head()"
   ]
  }
 ],
 "metadata": {
  "kernelspec": {
   "display_name": "nus",
   "language": "python",
   "name": "python3"
  },
  "language_info": {
   "codemirror_mode": {
    "name": "ipython",
    "version": 3
   },
   "file_extension": ".py",
   "mimetype": "text/x-python",
   "name": "python",
   "nbconvert_exporter": "python",
   "pygments_lexer": "ipython3",
   "version": "3.10.13"
  },
  "orig_nbformat": 4
 },
 "nbformat": 4,
 "nbformat_minor": 2
}
