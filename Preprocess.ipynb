{
 "cells": [
  {
   "cell_type": "code",
   "execution_count": 5,
   "metadata": {},
   "outputs": [],
   "source": [
    "import librosa\n",
    "import numpy as np\n",
    "import matplotlib.pyplot as plt\n",
    "import torchaudio\n",
    "import torch"
   ]
  },
  {
   "cell_type": "code",
   "execution_count": 3,
   "metadata": {},
   "outputs": [
    {
     "data": {
      "image/png": "[encoded data removed]",
      "text/plain": [
       "<Figure size 640x480 with 1 Axes>"
      ]
     },
     "metadata": {},
     "output_type": "display_data"
    }
   ],
   "source": [
    "def mp3tomfcc(file_path, max_pad):\n",
    "    audio, sample_rate = librosa.core.load(file_path)\n",
    "    mfcc = librosa.feature.mfcc(y=audio, sr=sample_rate, n_mfcc=60)\n",
    "    pad_width = max_pad - mfcc.shape[1]\n",
    "    mfcc = np.pad(mfcc, pad_width=((0, 0), (0, pad_width)), mode='constant')\n",
    "    return mfcc\n",
    "\n",
    "mfcc = mp3tomfcc(\"tone_perfect/a1_FV1_MP3.mp3\", 60)\n",
    "plt.imshow(mfcc)\n",
    "plt.show()"
   ]
  },
  {
   "cell_type": "code",
   "execution_count": 15,
   "metadata": {},
   "outputs": [
    {
     "name": "stdout",
     "output_type": "stream",
     "text": [
      "[1.8589199e-05 3.0867755e-05 3.2007694e-05 2.5227666e-05 3.8988888e-05\n",
      " 4.4144690e-05 2.9448420e-05 4.5079738e-05 7.3403120e-05 1.2752414e-04] 22050\n",
      "[1.8391305e-05 3.0983651e-05 3.1983414e-05 2.5024627e-05 3.9357365e-05\n",
      " 4.3628606e-05 3.0219811e-05 4.4190365e-05 7.4590382e-05 1.2641479e-04] 22050\n"
     ]
    }
   ],
   "source": [
    "file_path = \"tone_perfect/a1_FV1_MP3.mp3\"\n",
    "audio1, sample_rate1 = librosa.core.load(file_path)\n",
    "print(audio1[:10], sample_rate1)\n",
    "\n",
    "audio2, sample_rate2 = torchaudio.load(file_path, format=\"mp3\")\n",
    "downsampling = torchaudio.transforms.Resample(sample_rate2, 22050)\n",
    "audio2 = downsampling(audio2)\n",
    "audio2 = torch.mean(audio2, dim=0)\n",
    "sample_rate2 = 22050\n",
    "print(audio2[:10].numpy(), sample_rate2)"
   ]
  },
  {
   "cell_type": "code",
   "execution_count": 17,
   "metadata": {},
   "outputs": [
    {
     "name": "stdout",
     "output_type": "stream",
     "text": [
      "(60, 30)\n",
      "[[-182.83005    -86.2233     -63.453495   -77.575134   -95.08523  ]\n",
      " [ 145.52187    129.82492    117.5923     111.117134    94.538284 ]\n",
      " [ -97.105835  -126.279076  -138.71811   -142.33203   -135.27039  ]\n",
      " [ -25.390778    -9.048001   -11.356473   -10.937636   -10.9261465]\n",
      " [ -18.443775   -34.240738   -42.378944   -33.629192   -35.211823 ]]\n",
      "(60, 76)\n",
      "[[-404.27094   -210.72574   -142.38316    -73.38528    -50.98903  ]\n",
      " [  82.09244     91.09258     93.43731     94.68965     56.891556 ]\n",
      " [ -42.605186   -85.31177   -119.52321   -157.20796   -151.84813  ]\n",
      " [ -56.9112     -70.41463    -53.76805    -44.057774   -34.075558 ]\n",
      " [ -10.5349045  -24.224083   -37.21537    -39.592575   -45.594284 ]]\n"
     ]
    },
    {
     "name": "stderr",
     "output_type": "stream",
     "text": [
      "/Users/brandonng/anaconda3/envs/nus/lib/python3.10/site-packages/torchaudio/functional/functional.py:576: UserWarning: At least one mel filterbank has all zero values. The value for `n_mels` (128) may be set too high. Or, the value for `n_freqs` (201) may be set too low.\n",
      "  warnings.warn(\n"
     ]
    }
   ],
   "source": [
    "mfcc1 = librosa.feature.mfcc(y=audio1, sr=sample_rate1, n_mfcc=60)\n",
    "print(mfcc1.shape)\n",
    "print(mfcc1[:5,:5])\n",
    "plt.imshow(mfcc1)\n",
    "plt.show()\n",
    "\n",
    "transform = torchaudio.transforms.MFCC(sample_rate=sample_rate2, n_mfcc=60)\n",
    "mfcc2 = transform(audio2).numpy()\n",
    "plt.imshow(mfcc2)\n",
    "plt.show()\n",
    "print(mfcc2.shape)\n",
    "print(mfcc2[:5,:5])\n"
   ]
  }
 ],
 "metadata": {
  "kernelspec": {
   "display_name": "nus",
   "language": "python",
   "name": "python3"
  },
  "language_info": {
   "codemirror_mode": {
    "name": "ipython",
    "version": 3
   },
   "file_extension": ".py",
   "mimetype": "text/x-python",
   "name": "python",
   "nbconvert_exporter": "python",
   "pygments_lexer": "ipython3",
   "version": "3.10.13"
  },
  "orig_nbformat": 4
 },
 "nbformat": 4,
 "nbformat_minor": 2
}
